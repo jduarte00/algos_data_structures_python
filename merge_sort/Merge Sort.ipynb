{
 "cells": [
  {
   "cell_type": "markdown",
   "metadata": {},
   "source": [
    "# Merge Sort\n",
    "\n",
    "Merge sort consist of splitting the initial input into arrays with only one element and then mergin sorted elements \"on the way up\". The \"tricky\" part of the algorithm is the creation of a sorted array from two sorted arrays, which have an O(x) of O(n+m), where n is the size of the first array and m is the size of the second array. "
   ]
  },
  {
   "cell_type": "markdown",
   "metadata": {},
   "source": [
    "## Implementetion of merging sorted arrays algorithm"
   ]
  },
  {
   "cell_type": "code",
   "execution_count": 1,
   "metadata": {},
   "outputs": [],
   "source": [
    "# Implementation 1\n",
    "\n",
    "# Note the use of two variables to keep track of the index (this makes the algorithm O(n+m))\n",
    "#\n",
    "\n",
    "def return_sorted(array1, array2):\n",
    "    results = []\n",
    "    # Here!!\n",
    "    i = 0\n",
    "    j = 0\n",
    "    # ------\n",
    "    while i < len(array1) and j < len(array2):\n",
    "        if array1[i] < array2[j]:\n",
    "            results.append(array1[i])\n",
    "            i += 1\n",
    "        else:\n",
    "            results.append(array2[j])\n",
    "            j += 1\n",
    "    while i < len(array1):\n",
    "        results.append(array1[i])\n",
    "        i +=1\n",
    "    while j < len(array2):\n",
    "        results.append(array2[j])\n",
    "        j += 1\n",
    "    return results\n",
    "\n",
    "# Implementation 2\n",
    "\n",
    "# This implementation has an O(n^2) because it uses nested loops\n",
    "\n",
    "def join_sorted(array1, array2):\n",
    "    sorted = []\n",
    "    while len(array1):\n",
    "        while len(array2):\n",
    "            min_array_2 = array2[0]\n",
    "            if len(array1):\n",
    "                min_array_1 = array1[0]\n",
    "                if min_array_1 <= min_array_2:\n",
    "                    sorted.append(array1.pop(0))\n",
    "                elif min_array_2 < min_array_1:\n",
    "                    sorted.append(array2.pop(0))\n",
    "            else:\n",
    "                sorted.extend(array2)\n",
    "                break\n",
    "        if len(array1):\n",
    "            sorted.extend(array1)\n",
    "            break\n",
    "    return sorted"
   ]
  },
  {
   "cell_type": "markdown",
   "metadata": {},
   "source": [
    "Note: Because the sorting always happens between arrays of length of 1, it's possible to simplify the algorithm above."
   ]
  },
  {
   "cell_type": "markdown",
   "metadata": {},
   "source": [
    "## Using the sorting algorithm in the merge sort\n",
    "\n",
    "Once the algorithm that sorts elements of two sorted arrays has been written, the merge algorithm has to divide all the input into smaller arrays with length of 1 or 0 and then use the sorting algorithm to start sorting them on the \"way up\"."
   ]
  },
  {
   "cell_type": "code",
   "execution_count": null,
   "metadata": {},
   "outputs": [],
   "source": [
    "## Helper sorting function\n",
    "\n",
    "def return_sorted(array1, array2):\n",
    "    results = []\n",
    "    # Here!!\n",
    "    i = 0\n",
    "    j = 0\n",
    "    # ------\n",
    "    while i < len(array1) and j < len(array2):\n",
    "        if array1[i] < array2[j]:\n",
    "            results.append(array1[i])\n",
    "            i += 1\n",
    "        else:\n",
    "            results.append(array2[j])\n",
    "            j += 1\n",
    "    while i < len(array1):\n",
    "        results.append(array1[i])\n",
    "        i +=1\n",
    "    while j < len(array2):\n",
    "        results.append(array2[j])\n",
    "        j += 1\n",
    "    return results\n",
    "\n",
    "\n",
    "## first approach\n",
    "\n",
    "def merge_sort_1(array):\n",
    "    if len(array) == 1:\n",
    "        return array\n",
    "    else:\n",
    "        mid_point = int(len(array)/2)\n",
    "        first_halve = array[0:mid_point]\n",
    "        second_halve = array[mid_point:]\n",
    "        \n",
    "        if len(first_halve) <= 1 and len(second_halve) <=1:\n",
    "            return return_sorted(first_halve, second_halve)\n",
    "        else:\n",
    "            return return_sorted(merge_sort(first_halve), merge_sort(second_halve))\n",
    "\n",
    "\n",
    "## second approach\n",
    "\n",
    "def merge_sort_2(array):\n",
    "    if len(array) <=1:\n",
    "        return array\n",
    "    else:\n",
    "        midpoint = int(len(array)/2)\n",
    "        left_part = merge_sort(array[0:midpoint])\n",
    "        right_part = merge_sort(array[midpoint:])\n",
    "        return return_sorted(left_part, right_part)|"
   ]
  },
  {
   "cell_type": "markdown",
   "metadata": {},
   "source": [
    "## O(n) of Merge Sort\n",
    "\n",
    "The o(n) of merge sort is **O(n * log n)** which is the best when it comes to sorting algorithms. **The log n part comes from splitting the array into smaller arrays** (this looks like a binary tree) and **the n part comes from the comparisons that has to be made between the arrays** (in the image, 4 in the first level, then 3 in the second level, 2 in the third level and one in the final level).\n",
    "\n",
    "![pic1.JPG](pic1.JPG)"
   ]
  }
 ],
 "metadata": {
  "kernelspec": {
   "display_name": "Python 3",
   "language": "python",
   "name": "python3"
  },
  "language_info": {
   "codemirror_mode": {
    "name": "ipython",
    "version": 3
   },
   "file_extension": ".py",
   "mimetype": "text/x-python",
   "name": "python",
   "nbconvert_exporter": "python",
   "pygments_lexer": "ipython3",
   "version": "3.8.1"
  }
 },
 "nbformat": 4,
 "nbformat_minor": 2
}
