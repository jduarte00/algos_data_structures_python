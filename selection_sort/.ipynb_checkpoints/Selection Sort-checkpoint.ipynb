{
 "cells": [
  {
   "cell_type": "markdown",
   "metadata": {},
   "source": [
    "# Selection Sort\n",
    "\n",
    "A difference with Bubble Sort is that selection sort place the ordered values at the beginning of the array instead of placing the sorted values at the end. \n",
    "\n",
    "This algorithm is implemented by setting a pointer to the first item in the list and comparing this item to the rest. If there is an item smaller than the pointer, then the pointer will now aim the new minimum, and keep comparing the rest of the elements to this minimum. At the end of the loop, the pointer (which aims to the mimum of all the array) is switched with the first element in the array, and a new loop begins, starting from element 2 (which has the pointer aiming to it). \n",
    "\n"
   ]
  },
  {
   "cell_type": "code",
   "execution_count": 4,
   "metadata": {},
   "outputs": [
    {
     "data": {
      "text/plain": [
       "[10, 17, 19, 22, 34]"
      ]
     },
     "execution_count": 4,
     "metadata": {},
     "output_type": "execute_result"
    }
   ],
   "source": [
    "def selection_sort(array):\n",
    "    def swap(first, second, arraytoswap):\n",
    "        temp = arraytoswap[first]\n",
    "        arraytoswap[first] = arraytoswap[second]\n",
    "        arraytoswap[second] = temp\n",
    "    \n",
    "    for outer_index in range(len(array)):\n",
    "        minimum = outer_index\n",
    "        for inner_index in range(outer_index+1, len(array)):\n",
    "            if array[inner_index] < array[minimum]:\n",
    "                minimum = inner_index\n",
    "        if minimum != outer_index:\n",
    "            swap(outer_index, minimum, array)\n",
    "    return array\n",
    "\n",
    "selection_sort([34,22,10,19,17])\n",
    "            "
   ]
  },
  {
   "cell_type": "markdown",
   "metadata": {},
   "source": [
    "Selection sort also has a performance of $(O)n^2$"
   ]
  }
 ],
 "metadata": {
  "kernelspec": {
   "display_name": "Python 3",
   "language": "python",
   "name": "python3"
  },
  "language_info": {
   "codemirror_mode": {
    "name": "ipython",
    "version": 3
   },
   "file_extension": ".py",
   "mimetype": "text/x-python",
   "name": "python",
   "nbconvert_exporter": "python",
   "pygments_lexer": "ipython3",
   "version": "3.8.1"
  }
 },
 "nbformat": 4,
 "nbformat_minor": 2
}
