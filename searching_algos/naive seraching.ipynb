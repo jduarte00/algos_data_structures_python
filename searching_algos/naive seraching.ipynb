{
 "cells": [
  {
   "cell_type": "code",
   "execution_count": null,
   "metadata": {},
   "outputs": [],
   "source": [
    "def naive_search(string, pattern):\n",
    "    counter = 0\n",
    "    for letter in string:\n",
    "        if letter == pattern[0]:\n",
    "            for letter_pattern in pattern[1:]:\n",
    "                if letter_pattern ==\n",
    "            "
   ]
  },
  {
   "cell_type": "code",
   "execution_count": 8,
   "metadata": {},
   "outputs": [
    {
     "name": "stdout",
     "output_type": "stream",
     "text": [
      "ello\n"
     ]
    }
   ],
   "source": [
    "trst = \"hello\"\n",
    "print(trst[1:])"
   ]
  },
  {
   "cell_type": "code",
   "execution_count": 24,
   "metadata": {},
   "outputs": [
    {
     "name": "stdout",
     "output_type": "stream",
     "text": [
      "jaja outside function\n",
      "jaja ja\n",
      "aja a\n",
      "aja outside function\n",
      "aja ja\n",
      "ja outside function\n",
      "ja ja\n",
      "a a\n",
      "a outside function\n",
      "a ja\n"
     ]
    },
    {
     "data": {
      "text/plain": [
       "2"
      ]
     },
     "execution_count": 24,
     "metadata": {},
     "output_type": "execute_result"
    }
   ],
   "source": [
    "# Using recursion\n",
    "\n",
    "def helper_function(string, pattern):\n",
    "    counter = 0\n",
    "    def pattern_check(string, pattern): \n",
    "        print(string,pattern)\n",
    "        if string[0] == pattern[0] and len(pattern) == 1:\n",
    "            return True\n",
    "        elif string[0] == pattern[0]:\n",
    "            return pattern_check(string[1:], pattern[1:])\n",
    "        else:\n",
    "            return False\n",
    "    \n",
    "    for index in range(len(string)):\n",
    "        print(string[index:], \"outside function\")\n",
    "        \n",
    "        if pattern_check(string[index:], pattern) == True:\n",
    "            counter += 1\n",
    "    return counter\n",
    "\n",
    "helper_function(\"jaja\", \"ja\")"
   ]
  },
  {
   "cell_type": "code",
   "execution_count": 29,
   "metadata": {},
   "outputs": [
    {
     "data": {
      "text/plain": [
       "1"
      ]
     },
     "execution_count": 29,
     "metadata": {},
     "output_type": "execute_result"
    }
   ],
   "source": [
    "# Without using recursion\n",
    "\n",
    "def naive_search(string, pattern):\n",
    "    counter = 0\n",
    "    for outer_index in range(len(string)):\n",
    "            if string[outer_index]==pattern[0] and len(string[outer_index:]) > len(pattern):\n",
    "                for inner_index in range(len(pattern)):\n",
    "                    if string[outer_index + inner_index] != pattern[inner_index]:\n",
    "                        break\n",
    "                    \n",
    "                counter +=1\n",
    "    return counter\n",
    "naive_search(\"wsdkd\", \"dk\")"
   ]
  }
 ],
 "metadata": {
  "kernelspec": {
   "display_name": "Python 3",
   "language": "python",
   "name": "python3"
  },
  "language_info": {
   "codemirror_mode": {
    "name": "ipython",
    "version": 3
   },
   "file_extension": ".py",
   "mimetype": "text/x-python",
   "name": "python",
   "nbconvert_exporter": "python",
   "pygments_lexer": "ipython3",
   "version": "3.8.1"
  }
 },
 "nbformat": 4,
 "nbformat_minor": 2
}
