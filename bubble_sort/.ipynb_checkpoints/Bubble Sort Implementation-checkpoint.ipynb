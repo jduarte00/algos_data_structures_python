{
 "cells": [
  {
   "cell_type": "markdown",
   "metadata": {},
   "source": [
    "# Bubble Sort Implementation\n",
    "\n",
    "This is a simple implementation of the bubble sort algorithm in python. Bubble Sort has a O(x) of $n^2$"
   ]
  },
  {
   "cell_type": "code",
   "execution_count": 3,
   "metadata": {},
   "outputs": [],
   "source": [
    "def bubble_sort(array):\n",
    "    def swap(index1, index2, array_toswap):\n",
    "        temp = array_toswap[index1]\n",
    "        array_toswap[index1] = array_toswap[index2]\n",
    "        array_toswap[index2] = temp\n",
    "    \n",
    "    for index_outer in range(len(array)):\n",
    "        for index_inner in range(index_outer+1,len(array)):\n",
    "            if array[index_outer] > array[index_inner]:\n",
    "                swap(index_outer, index_inner, array)\n",
    "    return array"
   ]
  },
  {
   "cell_type": "code",
   "execution_count": 6,
   "metadata": {},
   "outputs": [
    {
     "data": {
      "text/plain": [
       "[2, 8, 10, 10]"
      ]
     },
     "execution_count": 6,
     "metadata": {},
     "output_type": "execute_result"
    }
   ],
   "source": [
    "bubble_sort([10,2,8,10])"
   ]
  },
  {
   "cell_type": "markdown",
   "metadata": {},
   "source": [
    "La implementación de la optimización solo puede hacerse cuando el bubble sort hace los loops de forma distinta"
   ]
  },
  {
   "cell_type": "code",
   "execution_count": 39,
   "metadata": {},
   "outputs": [],
   "source": [
    "def bubble_sort_optim(array):\n",
    "    def swap(index1, index2, array_toswap):\n",
    "        temp = array_toswap[index1]\n",
    "        array_toswap[index1] = array_toswap[index2]\n",
    "        array_toswap[index2] = temp\n",
    "    \n",
    "    \n",
    "    for index_outer in range(len(array)):\n",
    "        noSwap = True\n",
    "        for index_inner in range(index_outer+1,len(array)):\n",
    "            if array[index_outer] > array[index_inner]:\n",
    "                swap(index_outer, index_inner, array)\n",
    "                noSwap = False\n",
    "        print(array, index_outer)\n",
    "        print(noSwap)\n",
    "                \n",
    "    return array"
   ]
  },
  {
   "cell_type": "code",
   "execution_count": 41,
   "metadata": {
    "scrolled": false
   },
   "outputs": [
    {
     "name": "stdout",
     "output_type": "stream",
     "text": [
      "[1, 2, 10, 3] 0\n",
      "True\n",
      "[1, 2, 10, 3] 1\n",
      "True\n",
      "[1, 2, 3, 10] 2\n",
      "False\n",
      "[1, 2, 3, 10] 3\n",
      "True\n"
     ]
    },
    {
     "data": {
      "text/plain": [
       "[1, 2, 3, 10]"
      ]
     },
     "execution_count": 41,
     "metadata": {},
     "output_type": "execute_result"
    }
   ],
   "source": [
    "bubble_sort_optim([1,2,10,3])\n",
    "# [7,10,9,4]\n",
    "#"
   ]
  }
 ],
 "metadata": {
  "kernelspec": {
   "display_name": "Python 3",
   "language": "python",
   "name": "python3"
  },
  "language_info": {
   "codemirror_mode": {
    "name": "ipython",
    "version": 3
   },
   "file_extension": ".py",
   "mimetype": "text/x-python",
   "name": "python",
   "nbconvert_exporter": "python",
   "pygments_lexer": "ipython3",
   "version": "3.8.1"
  }
 },
 "nbformat": 4,
 "nbformat_minor": 2
}
