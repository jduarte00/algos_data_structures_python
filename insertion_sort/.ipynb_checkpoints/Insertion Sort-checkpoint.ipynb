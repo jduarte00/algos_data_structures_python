{
 "cells": [
  {
   "cell_type": "markdown",
   "metadata": {},
   "source": [
    "# Insertion Sort\n",
    "\n",
    "The difference between this algorithm and the bubble sort is that insertion sort gradually order the array from left to right, so in every moment you have your array divided in two, the part to the left is allways sorted and the part to the right is unsorted. The O complexity of Insertion Sort is $O(n^2)$\n"
   ]
  },
  {
   "cell_type": "code",
   "execution_count": 6,
   "metadata": {},
   "outputs": [
    {
     "name": "stdout",
     "output_type": "stream",
     "text": [
      "[3, 5, 7, 10, 10]\n"
     ]
    }
   ],
   "source": [
    "def insertion_sort(array):\n",
    "    for outer_index in range(1,len(array)):\n",
    "        for inner_index in range(0, outer_index):\n",
    "            if array[outer_index] < array[inner_index]:\n",
    "                temp = array[outer_index]\n",
    "                array.pop(outer_index)\n",
    "                array.insert(inner_index, temp)\n",
    "                break\n",
    "    return array\n",
    "            \n",
    "            \n",
    "print(insertion_sort([7,10,3,10,5]))"
   ]
  },
  {
   "cell_type": "markdown",
   "metadata": {},
   "source": [
    "There is an optimized version that compares the selected number against the ordered part from last to first and checking if the selected number is greater that the biggest number of the selected part. "
   ]
  }
 ],
 "metadata": {
  "kernelspec": {
   "display_name": "Python 3",
   "language": "python",
   "name": "python3"
  },
  "language_info": {
   "codemirror_mode": {
    "name": "ipython",
    "version": 3
   },
   "file_extension": ".py",
   "mimetype": "text/x-python",
   "name": "python",
   "nbconvert_exporter": "python",
   "pygments_lexer": "ipython3",
   "version": "3.8.1"
  }
 },
 "nbformat": 4,
 "nbformat_minor": 2
}
